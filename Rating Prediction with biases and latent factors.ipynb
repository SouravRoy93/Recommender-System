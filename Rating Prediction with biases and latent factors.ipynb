{
 "cells": [
  {
   "cell_type": "markdown",
   "id": "883f86fa",
   "metadata": {},
   "source": [
    "### Import Reuqired Libraries"
   ]
  },
  {
   "cell_type": "code",
   "execution_count": 1,
   "id": "055c63c1",
   "metadata": {
    "id": "055c63c1"
   },
   "outputs": [],
   "source": [
    "import gzip\n",
    "import random\n",
    "from collections import defaultdict\n",
    "from random import sample\n",
    "import pandas as pd\n",
    "import numpy as np\n",
    "import math"
   ]
  },
  {
   "cell_type": "markdown",
   "id": "9456b5b3",
   "metadata": {},
   "source": [
    "### Read the dataset"
   ]
  },
  {
   "cell_type": "code",
   "execution_count": 2,
   "id": "9d776bb1",
   "metadata": {
    "id": "9d776bb1"
   },
   "outputs": [],
   "source": [
    "dataDir = \"Your drive location\"\n",
    "\n",
    "path = dataDir+ \"trainInteractions.csv.gz\"\n",
    "rating_dataset = []\n",
    "for i in gzip.open(path, 'rt', encoding=\"utf8\"):\n",
    "    rating_dataset.append(i.strip().split(','))"
   ]
  },
  {
   "cell_type": "markdown",
   "id": "10c097d3",
   "metadata": {},
   "source": [
    "### Split the data into train and test"
   ]
  },
  {
   "cell_type": "code",
   "execution_count": 3,
   "id": "2ad8c8af",
   "metadata": {
    "id": "2ad8c8af"
   },
   "outputs": [],
   "source": [
    "train_dataset = rating_dataset[1:400001]\n",
    "test_dataset = rating_dataset[400001:500001]"
   ]
  },
  {
   "cell_type": "code",
   "execution_count": 4,
   "id": "a242ed26",
   "metadata": {
    "id": "a242ed26"
   },
   "outputs": [],
   "source": [
    "train_dataset_dict= []\n",
    "for i in train_dataset:\n",
    "    train_dataset_dict.append({'user_id':i[0],'recipe_id':i[1],'date':i[2], 'rating':float(i[3])})\n",
    "\n",
    "test_dataset_dict= []\n",
    "for i in test_dataset:\n",
    "    test_dataset_dict.append({'user_id':i[0],'recipe_id':i[1],'date':i[2], 'rating':float(i[3])})    "
   ]
  },
  {
   "cell_type": "markdown",
   "id": "78b4db8e",
   "metadata": {},
   "source": [
    "### Extract datastructures which can be used for further analysis"
   ]
  },
  {
   "cell_type": "code",
   "execution_count": 5,
   "id": "fed80f9a",
   "metadata": {
    "id": "fed80f9a"
   },
   "outputs": [],
   "source": [
    "def extract_datastructures(dataset, user_column, item_column, rating_column):\n",
    "    users_per_item = defaultdict(set)            # Maps an item to the users who rated it\n",
    "    items_per_user = defaultdict(set)            # Maps a user to the items that they rated\n",
    "    rating_dict = {}                             # To retrieve a rating for a specific user/item pair\n",
    "    detailsPerUser = defaultdict(list)           # Maps a user to all details\n",
    "    detailsPerItem = defaultdict(list)           # Maps an item to all details\n",
    "    user_averages = {}                           # store the average rating by each user\n",
    "    item_averages = {}                           # store the average rating for every item\n",
    "\n",
    "    for d in dataset:\n",
    "        user,item = d[user_column], d[item_column]\n",
    "        users_per_item[item].add(user)\n",
    "        items_per_user[user].add(item)\n",
    "        rating_dict[(user,item)] = d[rating_column]\n",
    "        \n",
    "    for d in dataset:\n",
    "        user,item = d[user_column], d[item_column]\n",
    "        detailsPerUser[user].append((d[item_column],d[rating_column]))\n",
    "        detailsPerItem[item].append((d[user_column],d[rating_column]))\n",
    "        \n",
    "    for u in items_per_user:\n",
    "        rs = [rating_dict[(u,i)] for i in items_per_user[u]]\n",
    "        user_averages[u] = sum(rs) / len(rs)\n",
    "\n",
    "    for i in users_per_item:\n",
    "        rs = [rating_dict[(u,i)] for u in users_per_item[i]]\n",
    "        item_averages[i] = sum(rs) / len(rs)\n",
    "    \n",
    "    return users_per_item, items_per_user, detailsPerUser, detailsPerItem, rating_dict, user_averages, item_averages"
   ]
  },
  {
   "cell_type": "code",
   "execution_count": 6,
   "id": "000bb91a",
   "metadata": {
    "id": "000bb91a"
   },
   "outputs": [],
   "source": [
    "users_per_recipe_tr, recipes_per_user_tr, detailsPerUser_tr, detailsPerRecipe_tr, rating_dict_tr, user_averages_tr, recipe_averages_tr  = extract_datastructures(train_dataset_dict,'user_id','recipe_id','rating')\n",
    "users_per_recipe_ts, recipes_per_user_ts, detailsPerUser_ts, detailsPerRecipe_ts, rating_dict_ts, user_averages_ts, recipe_averages_ts  = extract_datastructures(test_dataset_dict,'user_id','recipe_id','rating')"
   ]
  },
  {
   "cell_type": "markdown",
   "id": "eb2a106d",
   "metadata": {},
   "source": [
    "### Trivial model"
   ]
  },
  {
   "cell_type": "code",
   "execution_count": 7,
   "id": "d1aa34a1",
   "metadata": {
    "id": "d1aa34a1"
   },
   "outputs": [],
   "source": [
    "average_rating = np.mean([i['rating'] for i in train_dataset_dict])"
   ]
  },
  {
   "cell_type": "code",
   "execution_count": 8,
   "id": "2736b8e8",
   "metadata": {
    "colab": {
     "base_uri": "https://localhost:8080/"
    },
    "executionInfo": {
     "elapsed": 267,
     "status": "ok",
     "timestamp": 1637021985929,
     "user": {
      "displayName": "Sourav Roy",
      "photoUrl": "https://lh3.googleusercontent.com/a/default-user=s64",
      "userId": "07767328428106708317"
     },
     "user_tz": 480
    },
    "id": "2736b8e8",
    "outputId": "8edcf32c-92a6-4148-849f-b8a46efb4f88"
   },
   "outputs": [
    {
     "name": "stdout",
     "output_type": "stream",
     "text": [
      "trivial MSE on test data: 0.9095362079996616\n"
     ]
    }
   ],
   "source": [
    "trivial_mse = 0\n",
    "for i in test_dataset_dict:\n",
    "    r = float(i['rating'])\n",
    "    se = (r - average_rating)**2\n",
    "    trivial_mse += se\n",
    "\n",
    "trivial_mse /= len(test_dataset_dict)\n",
    "print(\"trivial MSE on test data: \" + str(trivial_mse))"
   ]
  },
  {
   "cell_type": "markdown",
   "id": "6af2975f",
   "metadata": {},
   "source": [
    "### Initialize biases for user and item"
   ]
  },
  {
   "cell_type": "code",
   "execution_count": 9,
   "id": "d8c83004",
   "metadata": {
    "id": "d8c83004"
   },
   "outputs": [],
   "source": [
    "beta_user = {}\n",
    "beta_recipe = {}\n",
    "for u in user_averages_tr:\n",
    "    beta_user[u] = 0\n",
    "\n",
    "for r in recipe_averages_tr:\n",
    "    beta_recipe[r] = 0"
   ]
  },
  {
   "cell_type": "code",
   "execution_count": 10,
   "id": "8d79a0f3",
   "metadata": {
    "id": "8d79a0f3"
   },
   "outputs": [],
   "source": [
    "gamma_user = {}\n",
    "gamma_item = {}\n",
    "K=7\n",
    "for u in user_averages_tr:\n",
    "    gamma_user[u] = [random.random() * 0.1 - 0.05 for k in range(K)]\n",
    "    \n",
    "for i in recipe_averages_tr:\n",
    "    gamma_item[i] = [random.random() * 0.1 - 0.05 for k in range(K)]"
   ]
  },
  {
   "attachments": {
    "image.png": {
     "image/png": "[encoded data removed]"
    }
   },
   "cell_type": "markdown",
   "id": "9795ee03",
   "metadata": {},
   "source": [
    "### Define functions for further analysis\n",
    "Function used to calculate rating:- \n",
    "![image.png](attachment:image.png)"
   ]
  },
  {
   "cell_type": "code",
   "execution_count": 11,
   "id": "3092a58b",
   "metadata": {
    "id": "3092a58b"
   },
   "outputs": [],
   "source": [
    "def inner(x, y):\n",
    "    return sum([a*b for a,b in zip(x,y)])"
   ]
  },
  {
   "cell_type": "code",
   "execution_count": 12,
   "id": "8e4e2667",
   "metadata": {
    "id": "8e4e2667"
   },
   "outputs": [],
   "source": [
    "#### This function will help us calculate alpha, betas and gammas by updating them ####\n",
    "def iterate(lambU, lambI):\n",
    "    \n",
    "    alpha_ = 0  # This will help update alpha\n",
    "    \n",
    "    # Updating alpha \n",
    "    for data in train_dataset_dict:\n",
    "        r = float(data['rating'])\n",
    "        u = data['user_id']\n",
    "        b = data['recipe_id']\n",
    "        alpha_ += r - (beta_user[u] + beta_recipe[b]) - inner(gamma_user[u], gamma_item[b])\n",
    "    alpha = alpha_ / len(train_dataset_dict)\n",
    "    \n",
    "    # updated the bias of user\n",
    "    for u in detailsPerUser_tr:\n",
    "        beta_user_new = 0\n",
    "        for b,r in detailsPerUser_tr[u]:\n",
    "            beta_user_new += r - (alpha + beta_recipe[b]) - inner(gamma_user[u], gamma_item[b])\n",
    "        beta_user[u] = beta_user_new / (lambU + len(detailsPerUser_tr[u]))\n",
    "    \n",
    "    # updated the bias of item\n",
    "    for b in detailsPerRecipe_tr:\n",
    "        beta_item_new = 0\n",
    "        for u,r in detailsPerRecipe_tr[b]:\n",
    "            beta_item_new += r - (alpha + beta_user[u]) - inner(gamma_user[u], gamma_item[b])\n",
    "        beta_recipe[b] = beta_item_new / (lambI + len(detailsPerRecipe_tr[b]))\n",
    "    \n",
    "    # updated the latent interaction matrix of item\n",
    "    for b in detailsPerRecipe_tr:\n",
    "        gamma_item_new = [0.0 for k in range(K)]\n",
    "        for k in range(K):\n",
    "            for u,r in detailsPerRecipe_tr[b]:\n",
    "                gamma_item_new[k] += (r - (alpha + beta_user[u] + beta_recipe[b]))*gamma_user[u][k]\n",
    "            gamma_item[b][k] = gamma_item_new[k]/(lambI + len(detailsPerRecipe_tr[b]))\n",
    "\n",
    "    # updated the latent interaction matrix of user\n",
    "    for u in detailsPerUser_tr:\n",
    "        gamma_user_new = [0.0 for k in range(K)]\n",
    "        for k in range(K):\n",
    "            for b,r in detailsPerUser_tr[u]:\n",
    "                gamma_user_new[k] += (r - (alpha + beta_user[u] + beta_recipe[b]))*gamma_item[b][k]\n",
    "            gamma_user[u][k] = gamma_user_new[k]/(lambU + len(detailsPerUser_tr[u]))\n",
    "\n",
    "    mse = 0\n",
    "    \n",
    "    # updated the regularizer\n",
    "    for data in train_dataset_dict:\n",
    "        r = float(data['rating'])\n",
    "        u = data['user_id']\n",
    "        b = data['recipe_id']\n",
    "        prediction = alpha + beta_user[u] + beta_recipe[b] + inner(gamma_user[u], gamma_item[b])\n",
    "        mse += (r - prediction)**2\n",
    "    regularizer = 0\n",
    "    for u in beta_user:\n",
    "        regularizer += lambU*beta_user[u]**2\n",
    "        for k in range(K):\n",
    "            regularizer += lambU*gamma_user[u][k]**2\n",
    "    for b in beta_recipe:\n",
    "        regularizer += lambI*beta_recipe[b]**2\n",
    "        for k in range(K):\n",
    "            regularizer += lambI*gamma_item[b][k]**2\n",
    "    mse /= len(train_dataset_dict)\n",
    "    \n",
    "    return mse, mse + regularizer, alpha"
   ]
  },
  {
   "cell_type": "code",
   "execution_count": null,
   "id": "f9483ff8",
   "metadata": {},
   "outputs": [],
   "source": [
    "save = [] # To store the latent factor, lambdas and RMSE\n",
    "\n",
    "# intialize the iteration function\n",
    "iterations = 1\n",
    "alpha = average_rating \n",
    "newMSE,newObjective,alph = iterate(1,1)\n",
    "\n",
    "for K in range(4,10):\n",
    "    for lamb_u in range(5,20):\n",
    "        for lamb_i in range(5,20):\n",
    "            iterations = 1\n",
    "            beta_user = {}\n",
    "            beta_recipe = {}\n",
    "            for u in user_averages_tr:\n",
    "                beta_user[u] = 0\n",
    "\n",
    "            for r in recipe_averages_tr:\n",
    "                beta_recipe[r] = 0\n",
    "        \n",
    "            gamma_user = {}\n",
    "            gamma_item = {}\n",
    "\n",
    "            for u in user_averages_tr:\n",
    "                gamma_user[u] = [random.random() * 0.1 - 0.05 for k in range(K)]\n",
    "        \n",
    "            for i in recipe_averages_tr:\n",
    "                gamma_item[i] = [random.random() * 0.1 - 0.05 for k in range(K)]\n",
    "        \n",
    "            while iterations < 20 or objective - newObjective > 0.0001:\n",
    "                mse, objective,alp = newMSE, newObjective,alph\n",
    "                newMSE, newObjective,alph = iterate(lamb_u,lamb_i)\n",
    "                iterations += 1\n",
    "                \n",
    "                validation_MSE = 0\n",
    "                for d in test_dataset_dict:\n",
    "                    r = int(d['rating'])\n",
    "                    bu = 0\n",
    "                    bi = 0\n",
    "                    gamma = 0\n",
    "                    if d['user_id'] in beta_user:\n",
    "                        bu = beta_user[d['user_id']]\n",
    "                    if d['recipe_id'] in beta_recipe:\n",
    "                        bi = beta_recipe[d['recipe_id']]\n",
    "                    if d['user_id'] in gamma_user:\n",
    "                        gamma_u = gamma_user[d['user_id']]\n",
    "                    if d['recipe_id'] in gamma_item:\n",
    "                        gamma_i = gamma_item[d['recipe_id']]\n",
    "                \n",
    "                    prediction = alph + bu + bi + inner(gamma_u, gamma_i)\n",
    "                    validation_MSE += (r - prediction)**2\n",
    "\n",
    "                validation_MSE /= len(test_dataset_dict)\n",
    "                    \n",
    "                save.append([K,lamb_u,lamb_i,validation_MSE])"
   ]
  }
 ],
 "metadata": {
  "colab": {
   "collapsed_sections": [],
   "name": "Copy of Untitled9.ipynb",
   "provenance": [
    {
     "file_id": "1zUwfowMOmLcfJveeipUD3PdmyklIEht7",
     "timestamp": 1637022373883
    }
   ]
  },
  "kernelspec": {
   "display_name": "Python 3",
   "language": "python",
   "name": "python3"
  },
  "language_info": {
   "codemirror_mode": {
    "name": "ipython",
    "version": 3
   },
   "file_extension": ".py",
   "mimetype": "text/x-python",
   "name": "python",
   "nbconvert_exporter": "python",
   "pygments_lexer": "ipython3",
   "version": "3.8.8"
  }
 },
 "nbformat": 4,
 "nbformat_minor": 5
}
