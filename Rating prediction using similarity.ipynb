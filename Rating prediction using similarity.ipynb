{
 "cells": [
  {
   "cell_type": "markdown",
   "id": "f629a418",
   "metadata": {},
   "source": [
    "### Import required libraries"
   ]
  },
  {
   "cell_type": "code",
   "execution_count": 1,
   "id": "a4ea8c93",
   "metadata": {},
   "outputs": [],
   "source": [
    "import gzip\n",
    "import math\n",
    "import random\n",
    "from collections import defaultdict"
   ]
  },
  {
   "cell_type": "markdown",
   "id": "23afc6f3",
   "metadata": {},
   "source": [
    "### Input File"
   ]
  },
  {
   "cell_type": "code",
   "execution_count": 2,
   "id": "abce4102",
   "metadata": {},
   "outputs": [],
   "source": [
    "##### select the path of your input file and input file name ######\n",
    "#directory = \"/home/sourav/\"\n",
    "\n",
    "directory = \"C:/Users/soura/OneDrive/Documents/UCSD/CSE 258/\"\n",
    "\n",
    "path = directory + \"goodreads_reviews_comics_graphic.json.gz\"\n",
    "\n",
    "##### read the data into a list ###### \n",
    "dataset = []\n",
    "for i in gzip.open(path, 'rt', encoding=\"utf8\"):\n",
    "    dataset.append(eval(i))"
   ]
  },
  {
   "cell_type": "code",
   "execution_count": 3,
   "id": "aedc3b7b",
   "metadata": {},
   "outputs": [
    {
     "data": {
      "text/plain": [
       "{'user_id': 'bafc2d50014200cda7cb2b6acd60cd73',\n",
       " 'book_id': '6315584',\n",
       " 'review_id': '72f1229aba5a88f9e72f0dcdc007dd22',\n",
       " 'rating': 4,\n",
       " 'review_text': \"I've never really liked Spider-Man. I am, however, a huge fan of the Dresden Files. Jim Butcher is clever and sarcastic and probably the perfect choice to pen a superhero novel. I really enjoyed this book!\",\n",
       " 'date_added': 'Wed Aug 10 06:06:48 -0700 2016',\n",
       " 'date_updated': 'Fri Aug 12 08:49:54 -0700 2016',\n",
       " 'read_at': 'Fri Aug 12 08:49:54 -0700 2016',\n",
       " 'started_at': 'Wed Aug 10 00:00:00 -0700 2016',\n",
       " 'n_votes': 0,\n",
       " 'n_comments': 0}"
      ]
     },
     "execution_count": 3,
     "metadata": {},
     "output_type": "execute_result"
    }
   ],
   "source": [
    "#### see a sample of the dataset ####\n",
    "dataset[1]"
   ]
  },
  {
   "cell_type": "markdown",
   "id": "45eac13b",
   "metadata": {},
   "source": [
    "### Extract useful data structures"
   ]
  },
  {
   "cell_type": "code",
   "execution_count": 4,
   "id": "6971510c",
   "metadata": {},
   "outputs": [],
   "source": [
    "users_per_book = defaultdict(set) # Maps an item to the users who rated it\n",
    "books_per_user = defaultdict(set) # Maps a user to the items that they rated\n",
    "rating_dict = {} # To retrieve a rating for a specific user/item pair\n",
    "\n",
    "for d in dataset:\n",
    "    user,item = d['user_id'], d['book_id']\n",
    "    users_per_book[item].add(user)\n",
    "    books_per_user[user].add(item)\n",
    "    rating_dict[(user,item)] = d['rating']"
   ]
  },
  {
   "cell_type": "markdown",
   "id": "1721f727",
   "metadata": {},
   "source": [
    "### Average rating calculation "
   ]
  },
  {
   "cell_type": "code",
   "execution_count": 5,
   "id": "048d6f53",
   "metadata": {},
   "outputs": [],
   "source": [
    "user_averages = {}\n",
    "book_averages = {}\n",
    "\n",
    "#### calculate average rating given by each user ####\n",
    "for u in books_per_user:\n",
    "    rs = [rating_dict[(u,i)] for i in books_per_user[u]]\n",
    "    user_averages[u] = sum(rs) / len(rs)\n",
    "\n",
    "#### calculate average rating for each book ####\n",
    "for i in users_per_book:\n",
    "    rs = [rating_dict[(u,i)] for u in users_per_book[i]]\n",
    "    book_averages[i] = sum(rs) / len(rs)"
   ]
  },
  {
   "cell_type": "markdown",
   "id": "d1264e32",
   "metadata": {},
   "source": [
    "### Similarity Metrics"
   ]
  },
  {
   "cell_type": "code",
   "execution_count": 6,
   "id": "96adc93b",
   "metadata": {},
   "outputs": [],
   "source": [
    "#### define jaccard similarity ####\n",
    "def jaccard_sim(s1, s2):\n",
    "    numer = len(s1.intersection(s2))\n",
    "    denom = len(s1.union(s2))\n",
    "    if denom == 0:\n",
    "        return 0\n",
    "    return numer / denom\n",
    "\n",
    "#### define cosine similarity ####\n",
    "def cosine_sim(i1, i2):\n",
    "    inter = users_per_book[i1].intersection(users_per_book[i2])\n",
    "    numer = 0\n",
    "    denom1 = 0\n",
    "    denom2 = 0\n",
    "    for u in inter:\n",
    "        numer += rating_dict[(u,i1)]*rating_dict[(u,i2)]\n",
    "    for u in users_per_book[i1]:\n",
    "        denom1 += rating_dict[(u,i1)]**2\n",
    "    for u in users_per_book[i2]:\n",
    "        denom2 += rating_dict[(u,i2)]**2\n",
    "    denom = math.sqrt(denom1) * math.sqrt(denom2)\n",
    "    if denom == 0: \n",
    "        return 0\n",
    "    return numer / denom\n",
    "\n",
    "#### define pearson similarity ####\n",
    "def pearson_sim(i1, i2):\n",
    "    iBar1 = book_averages[i1]\n",
    "    iBar2 = book_averages[i2]\n",
    "    inter = users_per_book[i1].intersection(users_per_book[i2])\n",
    "    numer = 0\n",
    "    denom1 = 0\n",
    "    denom2 = 0\n",
    "    for u in inter:\n",
    "        numer += (rating_dict[(u,i1)] - iBar1)*(rating_dict[(u,i2)] - iBar2)\n",
    "    for u in users_per_book[i1]:\n",
    "        denom1 += (rating_dict[(u,i1)] - iBar1)**2\n",
    "    for u in users_per_book[i2]:\n",
    "        denom2 += (rating_dict[(u,i2)] - iBar2)**2\n",
    "    denom = math.sqrt(denom1) * math.sqrt(denom2)\n",
    "    if denom == 0: \n",
    "        return 0\n",
    "    return numer / denom\n"
   ]
  },
  {
   "cell_type": "markdown",
   "id": "3ce6889f",
   "metadata": {},
   "source": [
    "### Function to find books or users"
   ]
  },
  {
   "cell_type": "code",
   "execution_count": 7,
   "id": "beb43fea",
   "metadata": {},
   "outputs": [],
   "source": [
    "#### using jaccard similarity ####\n",
    "def most_similar(i, N):\n",
    "    similar = []\n",
    "    users = users_per_book[i]\n",
    "    Items = set()\n",
    "    for u in users:\n",
    "        Items = Items.union(books_per_user[u])\n",
    "    for i2 in Items:\n",
    "        if i2 == i: continue\n",
    "        sim = jaccard_sim(users, users_per_book[i2])\n",
    "        similar.append((sim,i2))\n",
    "    similar.sort(reverse=True)\n",
    "    return similar[:N]"
   ]
  },
  {
   "cell_type": "markdown",
   "id": "8941c2f2",
   "metadata": {},
   "source": [
    "### Rating prediction based on similarity"
   ]
  },
  {
   "cell_type": "code",
   "execution_count": 8,
   "id": "50225d98",
   "metadata": {},
   "outputs": [],
   "source": [
    "average_rating = sum([data['rating'] for data in dataset]) / len(dataset)"
   ]
  },
  {
   "cell_type": "code",
   "execution_count": 9,
   "id": "36f598b4",
   "metadata": {},
   "outputs": [],
   "source": [
    "labels = [data['rating'] for data in dataset]"
   ]
  },
  {
   "cell_type": "code",
   "execution_count": 10,
   "id": "6d507021",
   "metadata": {},
   "outputs": [],
   "source": [
    "detailsPerUser = defaultdict(list)\n",
    "detailsPerItem = defaultdict(list)\n",
    "\n",
    "for d in dataset:\n",
    "    user,item = d['user_id'], d['book_id']\n",
    "    detailsPerUser[user].append(d)\n",
    "    detailsPerItem[item].append(d)"
   ]
  },
  {
   "cell_type": "code",
   "execution_count": 11,
   "id": "034e0c55",
   "metadata": {},
   "outputs": [],
   "source": [
    "def predict_rating(user,book):\n",
    "    ratings = []\n",
    "    similarities = []\n",
    "    for d in detailsPerUser[user]:\n",
    "        i2 = d['book_id']\n",
    "        if i2 == book: \n",
    "            continue\n",
    "        ratings.append(d['rating'] - book_averages[i2])\n",
    "        similarities.append(jaccard_sim(users_per_book[book],users_per_book[i2]))\n",
    "    if (sum(similarities) > 0):\n",
    "        weightedRatings = [(x*y) for x,y in zip(ratings,similarities)]\n",
    "        return book_averages[book] + sum(weightedRatings) / sum(similarities)\n",
    "    else:\n",
    "        return book_averages[book]"
   ]
  },
  {
   "cell_type": "markdown",
   "id": "81ab79b0",
   "metadata": {},
   "source": [
    "### Function to calculate mean squared error"
   ]
  },
  {
   "cell_type": "code",
   "execution_count": 12,
   "id": "c6fb0510",
   "metadata": {},
   "outputs": [],
   "source": [
    "def mse(prediction, actual):\n",
    "    se = [(x-y)**2 for x,y in zip(prediction, actual)]\n",
    "    return sum(se) / len(se)"
   ]
  },
  {
   "cell_type": "code",
   "execution_count": 13,
   "id": "b100536c",
   "metadata": {},
   "outputs": [],
   "source": [
    "trivial_prediction = [average_rating for d in dataset]"
   ]
  },
  {
   "cell_type": "code",
   "execution_count": 14,
   "id": "35a992d1",
   "metadata": {},
   "outputs": [],
   "source": [
    "simPredictions = [predict_rating(data['user_id'], data['book_id']) for data in dataset]"
   ]
  },
  {
   "cell_type": "code",
   "execution_count": 15,
   "id": "66b20e7b",
   "metadata": {},
   "outputs": [
    {
     "name": "stdout",
     "output_type": "stream",
     "text": [
      "The MSE of trivial prediction: 1.3309277970868938\n",
      "\n",
      "The MSE of prediction based on item : 0.7908367015187353\n"
     ]
    }
   ],
   "source": [
    "print(f'The MSE of trivial prediction: {mse(trivial_prediction, labels)}\\n')\n",
    "\n",
    "print(f'The MSE of prediction based on item : {mse(simPredictions, labels)}')"
   ]
  }
 ],
 "metadata": {
  "kernelspec": {
   "display_name": "Python 3",
   "language": "python",
   "name": "python3"
  },
  "language_info": {
   "codemirror_mode": {
    "name": "ipython",
    "version": 3
   },
   "file_extension": ".py",
   "mimetype": "text/x-python",
   "name": "python",
   "nbconvert_exporter": "python",
   "pygments_lexer": "ipython3",
   "version": "3.8.8"
  }
 },
 "nbformat": 4,
 "nbformat_minor": 5
}
